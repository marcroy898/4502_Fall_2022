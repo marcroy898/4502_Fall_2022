{
 "cells": [
  {
   "cell_type": "code",
   "execution_count": 1,
   "metadata": {},
   "outputs": [],
   "source": [
    "from gdeltdoc import GdeltDoc, Filters\n",
    "import matplotlib.pyplot as plt\n",
    "from matplotlib.pyplot import figure\n",
    "import pandas as pd\n",
    "import numpy as np"
   ]
  },
  {
   "cell_type": "code",
   "execution_count": 2,
   "metadata": {},
   "outputs": [],
   "source": [
    "#Import list of themes from the source, GDELT\n",
    "themes_arr = np.loadtxt('../Data/GDELT_data/LOOKUP-GKGTHEMES.TXT', dtype = str)\n",
    "filtered = [(a,b) for (a,b) in themes_arr if 'DISASTER' in a and 'TAX' not in a and int(b) > 300000]"
   ]
  },
  {
   "cell_type": "code",
   "execution_count": 3,
   "metadata": {
    "scrolled": false
   },
   "outputs": [
    {
     "name": "stdout",
     "output_type": "stream",
     "text": [
      "[('MANMADE_DISASTER_IMPLIED', '221229073'), ('NATURAL_DISASTER', '72002253'), ('WB_2166_HEALTH_EMERGENCY_PREPAREDNESS_AND_DISASTER_RESPONSE', '46628648'), ('DISASTER_FIRE', '18136739'), ('MANMADE_DISASTER', '15334942'), ('NATURAL_DISASTER_ICE', '11025516'), ('NATURAL_DISASTER_EARTHQUAKE', '7086203'), ('NATURAL_DISASTER_FLOOD', '6495128'), ('NATURAL_DISASTER_FLOODING', '6207184'), ('NATURAL_DISASTER_HURRICANE', '5336512'), ('NATURAL_DISASTER_FLOODS', '4820227'), ('NATURAL_DISASTER_FLOODED', '4279818'), ('NATURAL_DISASTER_DROUGHT', '3962460'), ('NATURAL_DISASTER_HEAVY_RAIN', '2539450'), ('NATURAL_DISASTER_DROWNED', '2470994'), ('NATURAL_DISASTER_EARTHQUAKES', '1984203'), ('NATURAL_DISASTER_EROSION', '1980096'), ('NATURAL_DISASTER_WILDFIRE', '1614522'), ('MANMADE_DISASTER_TRAFFIC_ACCIDENT', '1612877'), ('NATURAL_DISASTER_TSUNAMI', '1543881'), ('NATURAL_DISASTER_DROWNING', '1527800'), ('NATURAL_DISASTER_NATURAL_DISASTERS', '1519362'), ('NATURAL_DISASTER_STRONG_WINDS', '1515370'), ('NATURAL_DISASTER_LANDSLIDES', '1464210'), ('NATURAL_DISASTER_WILDFIRES', '1449572'), ('MANMADE_DISASTER_ROAD_ACCIDENT', '1431313'), ('NATURAL_DISASTER_AVALANCHE', '1392452'), ('NATURAL_DISASTER_VOLCANO', '1391717'), ('NATURAL_DISASTER_HURRICANES', '1364149'), ('NATURAL_DISASTER_CYCLONE', '1336767'), ('NATURAL_DISASTER_HEAVY_RAINS', '1309653'), ('NATURAL_DISASTER_LANDSLIDE', '1307013'), ('NATURAL_DISASTER_TORNADO', '1203283'), ('WB_820_DISASTER_RISK_MANAGEMENT', '1193751'), ('NATURAL_DISASTER_TROPICAL_STORM', '1137251'), ('NATURAL_DISASTER_VOLCANIC', '1106886'), ('NATURAL_DISASTER_TYPHOON', '1088794'), ('NATURAL_DISASTER_CHILL', '1088271'), ('MANMADE_DISASTER_CAR_ACCIDENT', '1000507'), ('NATURAL_DISASTER_MONSOON', '971511'), ('MANMADE_DISASTER_WITHOUT_POWER', '966206'), ('NATURAL_DISASTER_MAGMA', '927336'), ('NATURAL_DISASTER_SMOG', '915342'), ('NATURAL_DISASTER_ICY', '903801'), ('NATURAL_DISASTER_SEVERE_WEATHER', '903255'), ('NATURAL_DISASTER_ERUPTION', '897974'), ('MANMADE_DISASTER_RADIOACTIVE', '889691'), ('MANMADE_DISASTER_CAR_CRASH', '881468'), ('NATURAL_DISASTER_LAVA', '852391'), ('NATURAL_DISASTER_FAMINE', '848556'), ('MANMADE_DISASTER_PLANE_CRASH', '842639'), ('NATURAL_DISASTER_EXTREME_WEATHER', '789428'), ('MANMADE_DISASTER_DERAILED', '772420'), ('NATURAL_DISASTER_FOREST_FIRES', '770249'), ('NATURAL_DISASTER_NATURAL_DISASTER', '743823'), ('NATURAL_DISASTER_TORNADOES', '736633'), ('MANMADE_DISASTER_POWER_OUTAGES', '723852'), ('NATURAL_DISASTER_HYPOTHERMIA', '720293'), ('NATURAL_DISASTER_BLIZZARD', '705909'), ('NATURAL_DISASTER_HEAT_WAVE', '703396'), ('NATURAL_DISASTER_WATER_LEVEL', '693720'), ('NATURAL_DISASTER_HIGH_WINDS', '665233'), ('NATURAL_DISASTER_VOLCANOES', '647834'), ('NATURAL_DISASTER_DROWN', '643219'), ('NATURAL_DISASTER_TREMORS', '596025'), ('NATURAL_DISASTER_FLOODWATERS', '594971'), ('WB_1705_DISASTER_PREPAREDNESS', '581027'), ('NATURAL_DISASTER_SUSTAINED_WINDS', '573058'), ('MANMADE_DISASTER_DERAILMENT', '564779'), ('NATURAL_DISASTER_HIGH_WATER', '559793'), ('NATURAL_DISASTER_WINTER_STORM', '551844'), ('NATURAL_DISASTER_TREMOR', '538803'), ('NATURAL_DISASTER_WINTRY', '497965'), ('MANMADE_DISASTER_POWER_FAILURE', '485503'), ('MANMADE_DISASTER_EMERGENCY_LANDING', '483504'), ('MANMADE_DISASTER_HOUSE_FIRE', '477659'), ('NATURAL_DISASTER_FOREST_FIRE', '468128'), ('MANMADE_DISASTER_WITHOUT_ELECTRICITY', '458031'), ('NATURAL_DISASTER_STORM_SURGE', '447650'), ('NATURAL_DISASTER_AFTERSHOCKS', '439400'), ('NATURAL_DISASTER_SNOWSTORM', '439045'), ('NATURAL_DISASTER_DROUGHTS', '409739'), ('NATURAL_DISASTER_HEAVY_SNOW', '377662'), ('MANMADE_DISASTER_OIL_SPILL', '364447'), ('NATURAL_DISASTER_FRIGID', '363450'), ('MANMADE_DISASTER_POWER_OUTAGE', '357554'), ('NATURAL_DISASTER_HEATWAVE', '350174'), ('NATURAL_DISASTER_AVALANCHES', '348005'), ('NATURAL_DISASTER_TORRENTIAL_RAIN', '341994'), ('SELF_IDENTIFIED_ENVIRON_DISASTER', '333666'), ('NATURAL_DISASTER_ERUPTIONS', '330972'), ('NATURAL_DISASTER_TWISTER', '314976'), ('NATURAL_DISASTER_BUSHFIRE', '310139'), ('NATURAL_DISASTER_FLASH_FLOOD', '308725')]\n",
      "94\n"
     ]
    }
   ],
   "source": [
    "#List of thresholded themes\n",
    "print(filtered)\n",
    "print(len(filtered))"
   ]
  },
  {
   "cell_type": "code",
   "execution_count": 4,
   "metadata": {},
   "outputs": [],
   "source": [
    "gd = GdeltDoc()"
   ]
  },
  {
   "cell_type": "code",
   "execution_count": 5,
   "metadata": {},
   "outputs": [],
   "source": [
    "final_article_counts = pd.DataFrame()\n",
    "f = Filters(\n",
    "        start_date = \"2017-01-01\",\n",
    "        end_date = \"2022-11-10\",\n",
    "        theme = 'MANMADE_DISASTER_IMPLIED',\n",
    "    )\n",
    "\n",
    "timeline = gd.timeline_search(\"timelinevolraw\", f)\n",
    "final_article_counts = timeline[['datetime', 'All Articles']].copy()"
   ]
  },
  {
   "cell_type": "code",
   "execution_count": 6,
   "metadata": {},
   "outputs": [
    {
     "name": "stdout",
     "output_type": "stream",
     "text": [
      "2137\n"
     ]
    },
    {
     "data": {
      "text/html": [
       "<div>\n",
       "<style scoped>\n",
       "    .dataframe tbody tr th:only-of-type {\n",
       "        vertical-align: middle;\n",
       "    }\n",
       "\n",
       "    .dataframe tbody tr th {\n",
       "        vertical-align: top;\n",
       "    }\n",
       "\n",
       "    .dataframe thead th {\n",
       "        text-align: right;\n",
       "    }\n",
       "</style>\n",
       "<table border=\"1\" class=\"dataframe\">\n",
       "  <thead>\n",
       "    <tr style=\"text-align: right;\">\n",
       "      <th></th>\n",
       "      <th>datetime</th>\n",
       "      <th>All Articles</th>\n",
       "    </tr>\n",
       "  </thead>\n",
       "  <tbody>\n",
       "    <tr>\n",
       "      <th>0</th>\n",
       "      <td>2017-01-01 00:00:00+00:00</td>\n",
       "      <td>427906</td>\n",
       "    </tr>\n",
       "    <tr>\n",
       "      <th>1</th>\n",
       "      <td>2017-01-02 00:00:00+00:00</td>\n",
       "      <td>592774</td>\n",
       "    </tr>\n",
       "    <tr>\n",
       "      <th>2</th>\n",
       "      <td>2017-01-03 00:00:00+00:00</td>\n",
       "      <td>757916</td>\n",
       "    </tr>\n",
       "    <tr>\n",
       "      <th>3</th>\n",
       "      <td>2017-01-04 00:00:00+00:00</td>\n",
       "      <td>822862</td>\n",
       "    </tr>\n",
       "    <tr>\n",
       "      <th>4</th>\n",
       "      <td>2017-01-05 00:00:00+00:00</td>\n",
       "      <td>830028</td>\n",
       "    </tr>\n",
       "  </tbody>\n",
       "</table>\n",
       "</div>"
      ],
      "text/plain": [
       "                   datetime  All Articles\n",
       "0 2017-01-01 00:00:00+00:00        427906\n",
       "1 2017-01-02 00:00:00+00:00        592774\n",
       "2 2017-01-03 00:00:00+00:00        757916\n",
       "3 2017-01-04 00:00:00+00:00        822862\n",
       "4 2017-01-05 00:00:00+00:00        830028"
      ]
     },
     "execution_count": 6,
     "metadata": {},
     "output_type": "execute_result"
    }
   ],
   "source": [
    "print(len(final_article_counts))\n",
    "final_article_counts.head()"
   ]
  },
  {
   "cell_type": "code",
   "execution_count": 7,
   "metadata": {
    "scrolled": false
   },
   "outputs": [],
   "source": [
    "for spec_theme, b in filtered:\n",
    "    #Solved an issue wtih the theme not reaeding correctly, dunno why it works\n",
    "    spec_theme = str(spec_theme)\n",
    "    \n",
    "    #Generate filter\n",
    "    f = Filters(\n",
    "        start_date = \"2017-01-01\",\n",
    "        end_date = \"2022-11-10\",\n",
    "        theme = spec_theme,\n",
    "    )\n",
    "\n",
    "    # Get a timeline of the number of articles matching the filters\n",
    "    #Try except needed as some were throwing 'Query too long or too short' and didn't know how to fix\n",
    "    try:\n",
    "        timeline = gd.timeline_search(\"timelinevolraw\", f)\n",
    "    except:\n",
    "        continue\n",
    "\n",
    "    #Rename column to theme, append the column to the dataframe\n",
    "    timeline.rename(columns={'Article Count': spec_theme}, inplace=True)\n",
    "    final_article_counts = pd.concat([final_article_counts, timeline[spec_theme]], axis = 1)\n"
   ]
  },
  {
   "cell_type": "code",
   "execution_count": 8,
   "metadata": {},
   "outputs": [
    {
     "data": {
      "text/html": [
       "<div>\n",
       "<style scoped>\n",
       "    .dataframe tbody tr th:only-of-type {\n",
       "        vertical-align: middle;\n",
       "    }\n",
       "\n",
       "    .dataframe tbody tr th {\n",
       "        vertical-align: top;\n",
       "    }\n",
       "\n",
       "    .dataframe thead th {\n",
       "        text-align: right;\n",
       "    }\n",
       "</style>\n",
       "<table border=\"1\" class=\"dataframe\">\n",
       "  <thead>\n",
       "    <tr style=\"text-align: right;\">\n",
       "      <th></th>\n",
       "      <th>datetime</th>\n",
       "      <th>All Articles</th>\n",
       "      <th>MANMADE_DISASTER_IMPLIED</th>\n",
       "      <th>WB_2166_HEALTH_EMERGENCY_PREPAREDNESS_AND_DISASTER_RESPONSE</th>\n",
       "      <th>DISASTER_FIRE</th>\n",
       "      <th>NATURAL_DISASTER_ICE</th>\n",
       "      <th>NATURAL_DISASTER_EARTHQUAKE</th>\n",
       "      <th>NATURAL_DISASTER_FLOOD</th>\n",
       "      <th>NATURAL_DISASTER_FLOODING</th>\n",
       "      <th>NATURAL_DISASTER_HURRICANE</th>\n",
       "      <th>...</th>\n",
       "      <th>NATURAL_DISASTER_FRIGID</th>\n",
       "      <th>MANMADE_DISASTER_POWER_OUTAGE</th>\n",
       "      <th>NATURAL_DISASTER_HEATWAVE</th>\n",
       "      <th>NATURAL_DISASTER_AVALANCHES</th>\n",
       "      <th>NATURAL_DISASTER_TORRENTIAL_RAIN</th>\n",
       "      <th>SELF_IDENTIFIED_ENVIRON_DISASTER</th>\n",
       "      <th>NATURAL_DISASTER_ERUPTIONS</th>\n",
       "      <th>NATURAL_DISASTER_TWISTER</th>\n",
       "      <th>NATURAL_DISASTER_BUSHFIRE</th>\n",
       "      <th>NATURAL_DISASTER_FLASH_FLOOD</th>\n",
       "    </tr>\n",
       "  </thead>\n",
       "  <tbody>\n",
       "    <tr>\n",
       "      <th>0</th>\n",
       "      <td>2017-01-01 00:00:00+00:00</td>\n",
       "      <td>427906</td>\n",
       "      <td>87559</td>\n",
       "      <td>3363</td>\n",
       "      <td>11765</td>\n",
       "      <td>4972</td>\n",
       "      <td>1956</td>\n",
       "      <td>1689</td>\n",
       "      <td>1309</td>\n",
       "      <td>459</td>\n",
       "      <td>...</td>\n",
       "      <td>384</td>\n",
       "      <td>127</td>\n",
       "      <td>22</td>\n",
       "      <td>126</td>\n",
       "      <td>132</td>\n",
       "      <td>43</td>\n",
       "      <td>55</td>\n",
       "      <td>95</td>\n",
       "      <td>65</td>\n",
       "      <td>40</td>\n",
       "    </tr>\n",
       "    <tr>\n",
       "      <th>1</th>\n",
       "      <td>2017-01-02 00:00:00+00:00</td>\n",
       "      <td>592774</td>\n",
       "      <td>109720</td>\n",
       "      <td>4412</td>\n",
       "      <td>11562</td>\n",
       "      <td>6742</td>\n",
       "      <td>3079</td>\n",
       "      <td>1863</td>\n",
       "      <td>1787</td>\n",
       "      <td>589</td>\n",
       "      <td>...</td>\n",
       "      <td>259</td>\n",
       "      <td>157</td>\n",
       "      <td>47</td>\n",
       "      <td>129</td>\n",
       "      <td>54</td>\n",
       "      <td>67</td>\n",
       "      <td>72</td>\n",
       "      <td>78</td>\n",
       "      <td>47</td>\n",
       "      <td>54</td>\n",
       "    </tr>\n",
       "    <tr>\n",
       "      <th>2</th>\n",
       "      <td>2017-01-03 00:00:00+00:00</td>\n",
       "      <td>757916</td>\n",
       "      <td>129371</td>\n",
       "      <td>5765</td>\n",
       "      <td>14952</td>\n",
       "      <td>8754</td>\n",
       "      <td>3451</td>\n",
       "      <td>3366</td>\n",
       "      <td>3629</td>\n",
       "      <td>1222</td>\n",
       "      <td>...</td>\n",
       "      <td>385</td>\n",
       "      <td>153</td>\n",
       "      <td>40</td>\n",
       "      <td>257</td>\n",
       "      <td>54</td>\n",
       "      <td>105</td>\n",
       "      <td>116</td>\n",
       "      <td>235</td>\n",
       "      <td>249</td>\n",
       "      <td>94</td>\n",
       "    </tr>\n",
       "    <tr>\n",
       "      <th>3</th>\n",
       "      <td>2017-01-04 00:00:00+00:00</td>\n",
       "      <td>822862</td>\n",
       "      <td>134633</td>\n",
       "      <td>6477</td>\n",
       "      <td>12470</td>\n",
       "      <td>9553</td>\n",
       "      <td>5877</td>\n",
       "      <td>4216</td>\n",
       "      <td>2672</td>\n",
       "      <td>2723</td>\n",
       "      <td>...</td>\n",
       "      <td>447</td>\n",
       "      <td>293</td>\n",
       "      <td>73</td>\n",
       "      <td>614</td>\n",
       "      <td>117</td>\n",
       "      <td>84</td>\n",
       "      <td>243</td>\n",
       "      <td>136</td>\n",
       "      <td>199</td>\n",
       "      <td>40</td>\n",
       "    </tr>\n",
       "    <tr>\n",
       "      <th>4</th>\n",
       "      <td>2017-01-05 00:00:00+00:00</td>\n",
       "      <td>830028</td>\n",
       "      <td>143110</td>\n",
       "      <td>6919</td>\n",
       "      <td>11297</td>\n",
       "      <td>11397</td>\n",
       "      <td>3690</td>\n",
       "      <td>5559</td>\n",
       "      <td>4315</td>\n",
       "      <td>1679</td>\n",
       "      <td>...</td>\n",
       "      <td>650</td>\n",
       "      <td>194</td>\n",
       "      <td>64</td>\n",
       "      <td>874</td>\n",
       "      <td>64</td>\n",
       "      <td>97</td>\n",
       "      <td>160</td>\n",
       "      <td>181</td>\n",
       "      <td>177</td>\n",
       "      <td>867</td>\n",
       "    </tr>\n",
       "  </tbody>\n",
       "</table>\n",
       "<p>5 rows × 94 columns</p>\n",
       "</div>"
      ],
      "text/plain": [
       "                   datetime  All Articles  MANMADE_DISASTER_IMPLIED  \\\n",
       "0 2017-01-01 00:00:00+00:00        427906                     87559   \n",
       "1 2017-01-02 00:00:00+00:00        592774                    109720   \n",
       "2 2017-01-03 00:00:00+00:00        757916                    129371   \n",
       "3 2017-01-04 00:00:00+00:00        822862                    134633   \n",
       "4 2017-01-05 00:00:00+00:00        830028                    143110   \n",
       "\n",
       "   WB_2166_HEALTH_EMERGENCY_PREPAREDNESS_AND_DISASTER_RESPONSE  DISASTER_FIRE  \\\n",
       "0                                               3363                    11765   \n",
       "1                                               4412                    11562   \n",
       "2                                               5765                    14952   \n",
       "3                                               6477                    12470   \n",
       "4                                               6919                    11297   \n",
       "\n",
       "   NATURAL_DISASTER_ICE  NATURAL_DISASTER_EARTHQUAKE  NATURAL_DISASTER_FLOOD  \\\n",
       "0                  4972                         1956                    1689   \n",
       "1                  6742                         3079                    1863   \n",
       "2                  8754                         3451                    3366   \n",
       "3                  9553                         5877                    4216   \n",
       "4                 11397                         3690                    5559   \n",
       "\n",
       "   NATURAL_DISASTER_FLOODING  NATURAL_DISASTER_HURRICANE  ...  \\\n",
       "0                       1309                         459  ...   \n",
       "1                       1787                         589  ...   \n",
       "2                       3629                        1222  ...   \n",
       "3                       2672                        2723  ...   \n",
       "4                       4315                        1679  ...   \n",
       "\n",
       "   NATURAL_DISASTER_FRIGID  MANMADE_DISASTER_POWER_OUTAGE  \\\n",
       "0                      384                            127   \n",
       "1                      259                            157   \n",
       "2                      385                            153   \n",
       "3                      447                            293   \n",
       "4                      650                            194   \n",
       "\n",
       "   NATURAL_DISASTER_HEATWAVE  NATURAL_DISASTER_AVALANCHES  \\\n",
       "0                         22                          126   \n",
       "1                         47                          129   \n",
       "2                         40                          257   \n",
       "3                         73                          614   \n",
       "4                         64                          874   \n",
       "\n",
       "   NATURAL_DISASTER_TORRENTIAL_RAIN  SELF_IDENTIFIED_ENVIRON_DISASTER  \\\n",
       "0                               132                                43   \n",
       "1                                54                                67   \n",
       "2                                54                               105   \n",
       "3                               117                                84   \n",
       "4                                64                                97   \n",
       "\n",
       "   NATURAL_DISASTER_ERUPTIONS  NATURAL_DISASTER_TWISTER  \\\n",
       "0                          55                        95   \n",
       "1                          72                        78   \n",
       "2                         116                       235   \n",
       "3                         243                       136   \n",
       "4                         160                       181   \n",
       "\n",
       "   NATURAL_DISASTER_BUSHFIRE  NATURAL_DISASTER_FLASH_FLOOD  \n",
       "0                         65                            40  \n",
       "1                         47                            54  \n",
       "2                        249                            94  \n",
       "3                        199                            40  \n",
       "4                        177                           867  \n",
       "\n",
       "[5 rows x 94 columns]"
      ]
     },
     "execution_count": 8,
     "metadata": {},
     "output_type": "execute_result"
    }
   ],
   "source": [
    "final_article_counts.head()"
   ]
  },
  {
   "cell_type": "markdown",
   "metadata": {},
   "source": [
    "**Overview:** 92 total columns (not including datetime/ All articles) means that 92 different themes went through correclty"
   ]
  },
  {
   "cell_type": "code",
   "execution_count": 9,
   "metadata": {},
   "outputs": [
    {
     "data": {
      "text/plain": [
       "Index(['datetime', 'All Articles', 'MANMADE_DISASTER_IMPLIED',\n",
       "       'WB_2166_HEALTH_EMERGENCY_PREPAREDNESS_AND_DISASTER_RESPONSE',\n",
       "       'DISASTER_FIRE', 'NATURAL_DISASTER_ICE', 'NATURAL_DISASTER_EARTHQUAKE',\n",
       "       'NATURAL_DISASTER_FLOOD', 'NATURAL_DISASTER_FLOODING',\n",
       "       'NATURAL_DISASTER_HURRICANE', 'NATURAL_DISASTER_FLOODS',\n",
       "       'NATURAL_DISASTER_FLOODED', 'NATURAL_DISASTER_DROUGHT',\n",
       "       'NATURAL_DISASTER_HEAVY_RAIN', 'NATURAL_DISASTER_DROWNED',\n",
       "       'NATURAL_DISASTER_EARTHQUAKES', 'NATURAL_DISASTER_EROSION',\n",
       "       'NATURAL_DISASTER_WILDFIRE', 'MANMADE_DISASTER_TRAFFIC_ACCIDENT',\n",
       "       'NATURAL_DISASTER_TSUNAMI', 'NATURAL_DISASTER_DROWNING',\n",
       "       'NATURAL_DISASTER_NATURAL_DISASTERS', 'NATURAL_DISASTER_STRONG_WINDS',\n",
       "       'NATURAL_DISASTER_LANDSLIDES', 'NATURAL_DISASTER_WILDFIRES',\n",
       "       'MANMADE_DISASTER_ROAD_ACCIDENT', 'NATURAL_DISASTER_AVALANCHE',\n",
       "       'NATURAL_DISASTER_VOLCANO', 'NATURAL_DISASTER_HURRICANES',\n",
       "       'NATURAL_DISASTER_CYCLONE', 'NATURAL_DISASTER_HEAVY_RAINS',\n",
       "       'NATURAL_DISASTER_LANDSLIDE', 'NATURAL_DISASTER_TORNADO',\n",
       "       'WB_820_DISASTER_RISK_MANAGEMENT', 'NATURAL_DISASTER_TROPICAL_STORM',\n",
       "       'NATURAL_DISASTER_VOLCANIC', 'NATURAL_DISASTER_TYPHOON',\n",
       "       'NATURAL_DISASTER_CHILL', 'MANMADE_DISASTER_CAR_ACCIDENT',\n",
       "       'NATURAL_DISASTER_MONSOON', 'MANMADE_DISASTER_WITHOUT_POWER',\n",
       "       'NATURAL_DISASTER_MAGMA', 'NATURAL_DISASTER_SMOG',\n",
       "       'NATURAL_DISASTER_ICY', 'NATURAL_DISASTER_SEVERE_WEATHER',\n",
       "       'NATURAL_DISASTER_ERUPTION', 'MANMADE_DISASTER_RADIOACTIVE',\n",
       "       'MANMADE_DISASTER_CAR_CRASH', 'NATURAL_DISASTER_LAVA',\n",
       "       'NATURAL_DISASTER_FAMINE', 'MANMADE_DISASTER_PLANE_CRASH',\n",
       "       'NATURAL_DISASTER_EXTREME_WEATHER', 'MANMADE_DISASTER_DERAILED',\n",
       "       'NATURAL_DISASTER_FOREST_FIRES', 'NATURAL_DISASTER_NATURAL_DISASTER',\n",
       "       'NATURAL_DISASTER_TORNADOES', 'MANMADE_DISASTER_POWER_OUTAGES',\n",
       "       'NATURAL_DISASTER_HYPOTHERMIA', 'NATURAL_DISASTER_BLIZZARD',\n",
       "       'NATURAL_DISASTER_HEAT_WAVE', 'NATURAL_DISASTER_WATER_LEVEL',\n",
       "       'NATURAL_DISASTER_HIGH_WINDS', 'NATURAL_DISASTER_VOLCANOES',\n",
       "       'NATURAL_DISASTER_DROWN', 'NATURAL_DISASTER_TREMORS',\n",
       "       'NATURAL_DISASTER_FLOODWATERS', 'WB_1705_DISASTER_PREPAREDNESS',\n",
       "       'NATURAL_DISASTER_SUSTAINED_WINDS', 'MANMADE_DISASTER_DERAILMENT',\n",
       "       'NATURAL_DISASTER_HIGH_WATER', 'NATURAL_DISASTER_WINTER_STORM',\n",
       "       'NATURAL_DISASTER_TREMOR', 'NATURAL_DISASTER_WINTRY',\n",
       "       'MANMADE_DISASTER_POWER_FAILURE', 'MANMADE_DISASTER_EMERGENCY_LANDING',\n",
       "       'MANMADE_DISASTER_HOUSE_FIRE', 'NATURAL_DISASTER_FOREST_FIRE',\n",
       "       'MANMADE_DISASTER_WITHOUT_ELECTRICITY', 'NATURAL_DISASTER_STORM_SURGE',\n",
       "       'NATURAL_DISASTER_AFTERSHOCKS', 'NATURAL_DISASTER_SNOWSTORM',\n",
       "       'NATURAL_DISASTER_DROUGHTS', 'NATURAL_DISASTER_HEAVY_SNOW',\n",
       "       'MANMADE_DISASTER_OIL_SPILL', 'NATURAL_DISASTER_FRIGID',\n",
       "       'MANMADE_DISASTER_POWER_OUTAGE', 'NATURAL_DISASTER_HEATWAVE',\n",
       "       'NATURAL_DISASTER_AVALANCHES', 'NATURAL_DISASTER_TORRENTIAL_RAIN',\n",
       "       'SELF_IDENTIFIED_ENVIRON_DISASTER', 'NATURAL_DISASTER_ERUPTIONS',\n",
       "       'NATURAL_DISASTER_TWISTER', 'NATURAL_DISASTER_BUSHFIRE',\n",
       "       'NATURAL_DISASTER_FLASH_FLOOD'],\n",
       "      dtype='object')"
      ]
     },
     "execution_count": 9,
     "metadata": {},
     "output_type": "execute_result"
    }
   ],
   "source": [
    "final_article_counts.columns"
   ]
  },
  {
   "cell_type": "code",
   "execution_count": 10,
   "metadata": {},
   "outputs": [
    {
     "data": {
      "text/plain": [
       "2137"
      ]
     },
     "execution_count": 10,
     "metadata": {},
     "output_type": "execute_result"
    }
   ],
   "source": [
    "len(final_article_counts)"
   ]
  },
  {
   "cell_type": "code",
   "execution_count": 12,
   "metadata": {},
   "outputs": [
    {
     "data": {
      "text/plain": [
       "Text(0.5, 1.0, 'MANMADE_DISASTER_OIL_SPILL')"
      ]
     },
     "execution_count": 12,
     "metadata": {},
     "output_type": "execute_result"
    },
    {
     "data": {
      "image/png": "[encoded data removed]",
      "text/plain": [
       "<Figure size 1152x576 with 1 Axes>"
      ]
     },
     "metadata": {
      "needs_background": "light"
     },
     "output_type": "display_data"
    }
   ],
   "source": [
    "plt.figure(figsize = (16,8))\n",
    "plt.plot(final_article_counts['datetime'], final_article_counts['MANMADE_DISASTER_OIL_SPILL'])\n",
    "plt.xlabel('Datetime')\n",
    "plt.ylabel('Article Counts')\n",
    "plt.title('MANMADE_DISASTER_OIL_SPILL')"
   ]
  },
  {
   "cell_type": "code",
   "execution_count": 13,
   "metadata": {},
   "outputs": [],
   "source": [
    "final_article_counts.to_csv('../Data/GDELT_data/article_counts_disasters.csv')"
   ]
  },
  {
   "cell_type": "code",
   "execution_count": null,
   "metadata": {},
   "outputs": [],
   "source": []
  }
 ],
 "metadata": {
  "kernelspec": {
   "display_name": "Python 3",
   "language": "python",
   "name": "python3"
  },
  "language_info": {
   "codemirror_mode": {
    "name": "ipython",
    "version": 3
   },
   "file_extension": ".py",
   "mimetype": "text/x-python",
   "name": "python",
   "nbconvert_exporter": "python",
   "pygments_lexer": "ipython3",
   "version": "3.8.5"
  }
 },
 "nbformat": 4,
 "nbformat_minor": 4
}
